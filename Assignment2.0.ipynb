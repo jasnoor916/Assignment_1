{
 "cells": [
  {
   "cell_type": "code",
   "execution_count": 3,
   "id": "fc11f8ca-a4bc-430e-b95a-def0e17ba1d7",
   "metadata": {},
   "outputs": [],
   "source": [
    "import csv\n",
    "import random\n",
    "import math\n",
    "import numpy as np"
   ]
  },
  {
   "cell_type": "code",
   "execution_count": 5,
   "id": "68232215-9cd3-447a-a256-ae6e259092d5",
   "metadata": {},
   "outputs": [
    {
     "name": "stdout",
     "output_type": "stream",
     "text": [
      "HEADERS\n",
      "['male', 'age', 'education', 'currentSmoker', 'cigsPerDay', 'BPMeds', 'prevalentStroke', 'prevalentHyp', 'diabetes', 'totChol', 'sysBP', 'diaBP', 'BMI', 'heartRate', 'glucose', 'TenYearCHD']\n"
     ]
    }
   ],
   "source": [
    "\n",
    "\n",
    "def loadDataset(framingham):\n",
    "    with open(framingham, 'r') as csvfile: \n",
    "        lines = csv.reader(csvfile)\n",
    "        dataset = list(lines)\n",
    "        headers = dataset[0]\n",
    "        dataset = dataset[1: len(dataset)]\n",
    "        return dataset, headers\n",
    "dataset, headers = loadDataset('framingham.csv')\n",
    "print(\"HEADERS\")\n",
    "print(headers)"
   ]
  },
  {
   "cell_type": "code",
   "execution_count": 7,
   "id": "820f00a7-970b-4d2e-9d30-d7eee6219a9c",
   "metadata": {},
   "outputs": [],
   "source": [
    "dataset = np.array(dataset)\n",
    "\n",
    "X = dataset[:, 0:-1]\n",
    "Y = dataset[:, -1]"
   ]
  },
  {
   "cell_type": "code",
   "execution_count": 9,
   "id": "dbe1c4e8-f76a-44f8-8811-facb9b3984a0",
   "metadata": {},
   "outputs": [],
   "source": [
    "Y = np.array(Y).reshape((len(Y),1))\n",
    "def train_test_split(X, Y, split):\n",
    "\n",
    "    indices = np.array(range(len(X)))\n",
    "    \n",
    "    train_size = round(split * len(X))\n",
    "\n",
    "    random.shuffle(indices)\n",
    "\n",
    "    train_indices = indices[0:train_size]\n",
    "    test_indices = indices[train_size:len(X)]\n",
    "\n",
    "    X_train = X[train_indices, :]\n",
    "    X_test = X[test_indices, :]\n",
    "    Y_train = Y[train_indices, :]\n",
    "    Y_test = Y[test_indices, :]\n",
    "    \n",
    "    return X_train,Y_train, X_test, Y_test"
   ]
  },
  {
   "cell_type": "code",
   "execution_count": 11,
   "id": "23fef6cc-8220-44cf-aa04-3aff7d27c53a",
   "metadata": {},
   "outputs": [
    {
     "name": "stdout",
     "output_type": "stream",
     "text": [
      "TRAINING SET\n",
      "X_train.shape:  (2967, 15)\n",
      "Y_train.shape:  (2967, 1)\n",
      "\n",
      "TESTING SET\n",
      "X_test.shape:  (1271, 15)\n",
      "Y_test.shape:  (1271, 1)\n"
     ]
    }
   ],
   "source": [
    "split = 0.7\n",
    "X_train, Y_train, X_test, Y_test = train_test_split(X, Y,split)\n",
    "print (\"TRAINING SET\")\n",
    "print(\"X_train.shape: \", X_train.shape)\n",
    "print(\"Y_train.shape: \", Y_train.shape)\n",
    "\n",
    "print()\n",
    "print(\"TESTING SET\")\n",
    "print(\"X_test.shape: \", X_test.shape)\n",
    "print(\"Y_test.shape: \", Y_test.shape)"
   ]
  },
  {
   "cell_type": "code",
   "execution_count": 13,
   "id": "e8981990-72d4-4484-8fea-19a7a45783c2",
   "metadata": {},
   "outputs": [
    {
     "name": "stdout",
     "output_type": "stream",
     "text": [
      "weight =  [0.05243123 0.95205476]\n",
      "bias = 0.020057653358618033\n"
     ]
    }
   ],
   "source": [
    "class Linear_Regression:\n",
    "    def __init__(self, learning_rate, no_of_iterations):\n",
    "        self.learning_rate = learning_rate\n",
    "        self.no_of_iterations = no_of_iterations\n",
    "\n",
    "    def fit(self, X, Y):\n",
    "        self.m, self.n = X.shape\n",
    "        self.w = np.zeros(self.n)\n",
    "        self.b = 0\n",
    "        self.X = X\n",
    "        self.Y = Y\n",
    "\n",
    "        for i in range(self.no_of_iterations):\n",
    "            self.update_weights()\n",
    "\n",
    "    def update_weights(self):\n",
    "        Y_prediction = self.predict(self.X)\n",
    "        dw = -(2 * (self.X.T).dot(self.Y - Y_prediction)) / self.m\n",
    "        db = -2 * np.sum(self.Y - Y_prediction) / self.m\n",
    "\n",
    "        self.w = self.w - self.learning_rate * dw\n",
    "        self.b = self.b - self.learning_rate * db\n",
    "\n",
    "    def predict(self, X):\n",
    "        return X.dot(self.w) + self.b\n",
    "\n",
    "X = np.array([[1, 1], [1, 2], [2, 2], [2, 3]])\n",
    "Y = np.array([1, 2, 2, 3])\n",
    "\n",
    "model = Linear_Regression(learning_rate=0.01, no_of_iterations=1000)\n",
    "model.fit(X, Y)  \n",
    "\n",
    "print('weight = ', model.w)\n",
    "print('bias =', model.b)"
   ]
  },
  {
   "cell_type": "code",
   "execution_count": 15,
   "id": "572fde9b-0ecb-468e-acf6-b5e797596c88",
   "metadata": {},
   "outputs": [
    {
     "ename": "ValueError",
     "evalue": "shapes (1271,15) and (2,) not aligned: 15 (dim 1) != 2 (dim 0)",
     "output_type": "error",
     "traceback": [
      "\u001b[1;31m---------------------------------------------------------------------------\u001b[0m",
      "\u001b[1;31mValueError\u001b[0m                                Traceback (most recent call last)",
      "Cell \u001b[1;32mIn[15], line 1\u001b[0m\n\u001b[1;32m----> 1\u001b[0m test_data_prediction \u001b[38;5;241m=\u001b[39m model\u001b[38;5;241m.\u001b[39mpredict(X_test)\n",
      "Cell \u001b[1;32mIn[13], line 25\u001b[0m, in \u001b[0;36mLinear_Regression.predict\u001b[1;34m(self, X)\u001b[0m\n\u001b[0;32m     24\u001b[0m \u001b[38;5;28;01mdef\u001b[39;00m \u001b[38;5;21mpredict\u001b[39m(\u001b[38;5;28mself\u001b[39m, X):\n\u001b[1;32m---> 25\u001b[0m     \u001b[38;5;28;01mreturn\u001b[39;00m X\u001b[38;5;241m.\u001b[39mdot(\u001b[38;5;28mself\u001b[39m\u001b[38;5;241m.\u001b[39mw) \u001b[38;5;241m+\u001b[39m \u001b[38;5;28mself\u001b[39m\u001b[38;5;241m.\u001b[39mb\n",
      "\u001b[1;31mValueError\u001b[0m: shapes (1271,15) and (2,) not aligned: 15 (dim 1) != 2 (dim 0)"
     ]
    }
   ],
   "source": [
    "test_data_prediction = model.predict(X_test)"
   ]
  },
  {
   "cell_type": "code",
   "execution_count": null,
   "id": "c6301e4e-b83d-469b-8bac-c807a5c72e56",
   "metadata": {},
   "outputs": [],
   "source": [
    "#I tried usong this bit of code as well smh in rough ..\n",
    "import numpy as np\n",
    "import matplotlib.pyplot as plt\n",
    "\n",
    "class MultipleLinearRegression:\n",
    "    def __init__(self, learning_rate=0.01, no_of_iterations=1000):\n",
    "        self.learning_rate = learning_rate\n",
    "        self.no_of_iterations = no_of_iterations\n",
    "        self.w = None\n",
    "        self.b = None\n",
    "\n",
    "    def fit(self, X, Y):\n",
    "        # Number of samples and features\n",
    "        self.m, self.n = X.shape\n",
    "        # Initialize weights and bias\n",
    "        self.w = np.zeros(self.n)\n",
    "        self.b = 0\n",
    "\n",
    "        # Gradient descent\n",
    "        for i in range(self.no_of_iterations):\n",
    "            self.update_weights(X, Y)\n",
    "\n",
    "    def update_weights(self, X, Y):\n",
    "        Y_prediction = self.predict(X)\n",
    "        dw = -(2 * (X.T).dot(Y - Y_prediction)) / self.m\n",
    "        db = -2 * np.sum(Y - Y_prediction) / self.m\n",
    "\n",
    "        self.w -= self.learning_rate * dw\n",
    "        self.b -= self.learning_rate * db\n",
    "\n",
    "    def predict(self, X):\n",
    "        return X.dot(self.w) + self.b\n",
    "\n",
    "\n"
   ]
  },
  {
   "cell_type": "code",
   "execution_count": null,
   "id": "8b291ea2-bfb3-43cf-b908-c3378980a928",
   "metadata": {},
   "outputs": [],
   "source": []
  },
  {
   "cell_type": "code",
   "execution_count": null,
   "id": "1b6dc710-1a7f-4ddc-bc5a-ea75ce3804b1",
   "metadata": {},
   "outputs": [],
   "source": []
  }
 ],
 "metadata": {
  "kernelspec": {
   "display_name": "Python [conda env:base] *",
   "language": "python",
   "name": "conda-base-py"
  },
  "language_info": {
   "codemirror_mode": {
    "name": "ipython",
    "version": 3
   },
   "file_extension": ".py",
   "mimetype": "text/x-python",
   "name": "python",
   "nbconvert_exporter": "python",
   "pygments_lexer": "ipython3",
   "version": "3.12.7"
  }
 },
 "nbformat": 4,
 "nbformat_minor": 5
}
